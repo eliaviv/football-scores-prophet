{
 "cells": [
  {
   "cell_type": "code",
   "execution_count": 86,
   "id": "7cdfb7f7",
   "metadata": {},
   "outputs": [],
   "source": [
    "import pandas as pd\n",
    "from sklearn.ensemble import RandomForestClassifier\n",
    "from sklearn.metrics import accuracy_score\n",
    "\n",
    "# Load the data\n",
    "file_path = '../output/matches_with_players.csv'\n",
    "df = pd.read_csv(file_path)\n",
    "\n",
    "# Drop the columns that are not needed\n",
    "columns_to_drop = [\n",
    "    'Game ID', 'Date', 'G Home', 'G Away', 'Players Found %',\n",
    "    'Match Link', 'id', 'Wk', 'Day', 'Time', 'League', 'Season',\n",
    "    'Home Points', 'Away Points',\n",
    "    'Home', 'Away',\n",
    "#      'Home Avg Points',\n",
    "#        'Away Avg Points', 'Home Avg Goals For', 'Away Avg Goals For',\n",
    "#        'Home Avg Goals Against', 'Away Avg Goals Against',\n",
    "#        'Home Matches Played', 'Away Matches Played', \n",
    "#         'Home Points/Match','Away Points/Match', \n",
    "#         'Home Form Points', 'Away Form Points',\n",
    "#        'Home Form Goals For', 'Away Form Goals For', 'Home Form Goals Against',\n",
    "#        'Away Form Goals Against', 'Home Head-to-Head Points',\n",
    "#        'Away Head-to-Head Points', 'Home Head-to-Head Goals For',\n",
    "#        'Away Head-to-Head Goals For', 'Home Head-to-Head Goals Against',\n",
    "#        'Away Head-to-Head Goals Against',\n",
    "#     'Home Avg Players Score',\n",
    "#        'Away Avg Players Score', 'Home Star Player Count',\n",
    "#        'Away Star Player Count',\n",
    "#     'xScore', \n",
    "    'xG Home', 'xG Away',\n",
    "    'home_elo', 'away_elo', \n",
    "    'xScoreElo',\n",
    "    'B365H', 'B365D', 'B365A',\n",
    "]\n",
    "\n",
    "df = df.drop(columns=columns_to_drop)\n",
    "\n",
    "# Create dummy variables for 'Home' and 'Away' columns\n",
    "# df = pd.get_dummies(df, columns=['Home', 'Away'], drop_first=True)\n"
   ]
  },
  {
   "cell_type": "code",
   "execution_count": 82,
   "id": "16b97c2e",
   "metadata": {},
   "outputs": [
    {
     "data": {
      "text/plain": [
       "Index(['Score', 'xScore', 'Home Avg Points', 'Away Avg Points',\n",
       "       'Home Avg Goals For', 'Away Avg Goals For', 'Home Avg Goals Against',\n",
       "       'Away Avg Goals Against', 'Home Matches Played', 'Away Matches Played',\n",
       "       'Home Points/Match', 'Away Points/Match', 'Home Form Points',\n",
       "       'Away Form Points', 'Home Form Goals For', 'Away Form Goals For',\n",
       "       'Home Form Goals Against', 'Away Form Goals Against',\n",
       "       'Home Head-to-Head Points', 'Away Head-to-Head Points',\n",
       "       'Home Head-to-Head Goals For', 'Away Head-to-Head Goals For',\n",
       "       'Home Head-to-Head Goals Against', 'Away Head-to-Head Goals Against',\n",
       "       'Home Avg Players Score', 'Away Avg Players Score',\n",
       "       'Home Star Player Count', 'Away Star Player Count'],\n",
       "      dtype='object')"
      ]
     },
     "execution_count": 82,
     "metadata": {},
     "output_type": "execute_result"
    }
   ],
   "source": [
    "df.columns"
   ]
  },
  {
   "cell_type": "code",
   "execution_count": 85,
   "id": "9e55003c",
   "metadata": {},
   "outputs": [
    {
     "name": "stdout",
     "output_type": "stream",
     "text": [
      "Accuracy: 0.51\n"
     ]
    }
   ],
   "source": [
    "# Separate features and target\n",
    "X = df.drop('Score', axis=1)\n",
    "y = df['Score']\n",
    "\n",
    "# Split the data by using the last 20% as test data\n",
    "train_size = int(0.8 * len(df))\n",
    "X_train, X_test = X.iloc[:train_size], X.iloc[train_size:]\n",
    "y_train, y_test = y.iloc[:train_size], y.iloc[train_size:]\n",
    "\n",
    "# Initialize the classifier\n",
    "clf = RandomForestClassifier(random_state=42)\n",
    "\n",
    "# Train the classifier\n",
    "clf.fit(X_train, y_train)\n",
    "\n",
    "# Make predictions\n",
    "y_pred = clf.predict(X_test)\n",
    "\n",
    "# Evaluate the model\n",
    "accuracy = accuracy_score(y_test, y_pred)\n",
    "print(f\"Accuracy: {accuracy:.2f}\")\n"
   ]
  },
  {
   "cell_type": "code",
   "execution_count": 84,
   "id": "e92fdad8",
   "metadata": {},
   "outputs": [
    {
     "name": "stdout",
     "output_type": "stream",
     "text": [
      "Accuracy: 0.58\n"
     ]
    }
   ],
   "source": [
    "import pandas as pd\n",
    "from sklearn.ensemble import RandomForestClassifier\n",
    "from sklearn.metrics import accuracy_score\n",
    "from sklearn.model_selection import train_test_split, GridSearchCV\n",
    "from sklearn.preprocessing import StandardScaler\n",
    "\n",
    "# Load the data\n",
    "file_path = '../output/matches_with_players.csv'\n",
    "df = pd.read_csv(file_path)\n",
    "\n",
    "# Drop unnecessary columns\n",
    "columns_to_drop = [\n",
    "    'Game ID', 'Date', 'G Home', 'G Away', 'Players Found %',\n",
    "    'Match Link', 'id', 'Wk', 'Day', 'Time', 'League', 'Season',\n",
    "    'Home Points', 'Away Points', 'Home', 'Away'\n",
    "    # Consider including some of these features if they seem useful\n",
    "    # 'Home', 'Away', 'Home Avg Points', 'Away Avg Points', 'Home Avg Goals For', 'Away Avg Goals For',\n",
    "    # 'Home Avg Goals Against', 'Away Avg Goals Against', 'Home Matches Played', 'Away Matches Played',\n",
    "    # 'Home Points/Match', 'Away Points/Match', 'Home Form Points', 'Away Form Points',\n",
    "    # 'Home Form Goals For', 'Away Form Goals For', 'Home Form Goals Against', 'Away Form Goals Against',\n",
    "    # 'Home Head-to-Head Points', 'Away Head-to-Head Points', 'Home Head-to-Head Goals For',\n",
    "    # 'Away Head-to-Head Goals For', 'Home Head-to-Head Goals Against', 'Away Head-to-Head Goals Against',\n",
    "    # 'Home Avg Players Score', 'Away Avg Players Score', 'Home Star Player Count', 'Away Star Player Count',\n",
    "    # 'xScore', 'xG Home', 'xG Away'\n",
    "]\n",
    "\n",
    "df = df.drop(columns=columns_to_drop)\n",
    "\n",
    "# Create dummy variables for 'Home' and 'Away' columns if needed\n",
    "# df = pd.get_dummies(df, columns=['Home', 'Away'], drop_first=True)\n",
    "\n",
    "# Separate features and target\n",
    "X = df.drop('Score', axis=1)\n",
    "y = df['Score']\n",
    "\n",
    "# Normalize features\n",
    "scaler = StandardScaler()\n",
    "X = scaler.fit_transform(X)\n",
    "\n",
    "# Split the data by using the last 20% as test data\n",
    "train_size = int(0.8 * len(df))\n",
    "X_train, X_test = X[:train_size], X[train_size:]\n",
    "y_train, y_test = y[:train_size], y[train_size:]\n",
    "\n",
    "# Hyperparameter tuning with GridSearchCV\n",
    "param_grid = {\n",
    "    'n_estimators': [100, 200],\n",
    "    'max_depth': [10, 20, None],\n",
    "    'min_samples_split': [2, 5],\n",
    "    'min_samples_leaf': [1, 2]\n",
    "}\n",
    "\n",
    "clf = RandomForestClassifier(random_state=42)\n",
    "grid_search = GridSearchCV(estimator=clf, param_grid=param_grid, cv=5, n_jobs=-1, scoring='accuracy')\n",
    "\n",
    "# Train the classifier\n",
    "grid_search.fit(X_train, y_train)\n",
    "\n",
    "# Get the best model\n",
    "best_clf = grid_search.best_estimator_\n",
    "\n",
    "# Make predictions\n",
    "y_pred = best_clf.predict(X_test)\n",
    "\n",
    "# Evaluate the model\n",
    "accuracy = accuracy_score(y_test, y_pred)\n",
    "print(f\"Accuracy: {accuracy:.2f}\")\n"
   ]
  }
 ],
 "metadata": {
  "kernelspec": {
   "display_name": "Python 3 (ipykernel)",
   "language": "python",
   "name": "python3"
  },
  "language_info": {
   "codemirror_mode": {
    "name": "ipython",
    "version": 3
   },
   "file_extension": ".py",
   "mimetype": "text/x-python",
   "name": "python",
   "nbconvert_exporter": "python",
   "pygments_lexer": "ipython3",
   "version": "3.11.5"
  }
 },
 "nbformat": 4,
 "nbformat_minor": 5
}
