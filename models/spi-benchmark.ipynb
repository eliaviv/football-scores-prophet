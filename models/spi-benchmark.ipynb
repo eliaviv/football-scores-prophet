{
 "cells": [
  {
   "cell_type": "code",
   "execution_count": null,
   "id": "d7686973",
   "metadata": {},
   "outputs": [],
   "source": [
    "import pandas as pd\n",
    "from sklearn.model_selection import train_test_split\n",
    "from sklearn.ensemble import RandomForestClassifier\n",
    "from sklearn.metrics import accuracy_score\n",
    "\n",
    "# Load the data\n",
    "df = pd.read_csv('../resources/soccer-spi/spi_matches.csv')\n",
    "\n",
    "# Define a function to determine the Score\n",
    "def determine_score(row):\n",
    "    if row['score1'] > row['score2']:\n",
    "        return 1  # team1 wins\n",
    "    elif row['score1'] < row['score2']:\n",
    "        return -1  # team2 wins\n",
    "    else:\n",
    "        return 0  # draw\n",
    "\n",
    "# Define a function to determine the xScore\n",
    "def determine_xscore(row):\n",
    "    if row['prob1'] > row['prob2'] and row['prob1'] > row['probtie']:\n",
    "        return 1  # team1 win\n",
    "    elif row['prob2'] > row['prob1'] and row['prob2'] > row['probtie']:\n",
    "        return -1  # team2 win\n",
    "    else:\n",
    "        return 0  # draw\n",
    "\n",
    "# Define a function to determine the xScoreSpi\n",
    "def determine_xscorespi(row):\n",
    "    diff = row['spi1'] - row['spi2']\n",
    "    threshold = 0.5\n",
    "    if diff > threshold:\n",
    "        return 1  # team1 win\n",
    "    elif diff < -threshold:\n",
    "        return -1  # team2 win\n",
    "    else:\n",
    "        return 0  # draw\n",
    "    \n",
    "# Apply the functions to the dataframe\n",
    "df['Score'] = df.apply(determine_score, axis=1)\n",
    "df['xScore'] = df.apply(determine_xscore, axis=1)\n",
    "df['xScoreSpi'] = df.apply(determine_xscorespi, axis=1)\n",
    "\n",
    "\n",
    "# Calculate accuracy of benchmark prediction\n",
    "accuracy = (df['Score'] == df['xScore']).mean()\n",
    "accuracy_spi = (df['Score'] == df['xScoreSpi']).mean()\n",
    "\n",
    "# Print the accuracy\n",
    "print(f\"Baseline Accuracy: {accuracy:.2%}\")\n",
    "print(f\"Baseline Accuracy Spi: {accuracy_spi:.2%}\")"
   ]
  }
 ],
 "metadata": {
  "kernelspec": {
   "display_name": "Python 3 (ipykernel)",
   "language": "python",
   "name": "python3"
  },
  "language_info": {
   "codemirror_mode": {
    "name": "ipython",
    "version": 3
   },
   "file_extension": ".py",
   "mimetype": "text/x-python",
   "name": "python",
   "nbconvert_exporter": "python",
   "pygments_lexer": "ipython3",
   "version": "3.11.5"
  }
 },
 "nbformat": 4,
 "nbformat_minor": 5
}
